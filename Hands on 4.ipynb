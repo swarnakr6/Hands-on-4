{
 "cells": [
  {
   "cell_type": "markdown",
   "id": "752b9cf6",
   "metadata": {},
   "source": [
    "Problem 0\n",
    "\n",
    "Implementation of Fibonacci sequence"
   ]
  },
  {
   "cell_type": "code",
   "execution_count": 7,
   "id": "22fd20d7",
   "metadata": {},
   "outputs": [
    {
     "name": "stdout",
     "output_type": "stream",
     "text": [
      " fib(5)\n",
      " --> fib(4) + fib(3)\n",
      "   fib(4)\n",
      "   --> fib(3) + fib(2)\n",
      "     fib(3)\n",
      "     --> fib(2) + fib(1)\n",
      "       fib(2)\n",
      "       --> fib(1) + fib(0)\n",
      "         fib(1)\n",
      "         --> return 1\n",
      "         fib(0)\n",
      "         --> return 0\n",
      "       fib(1)\n",
      "       --> return 1\n",
      "     fib(2)\n",
      "     --> fib(1) + fib(0)\n",
      "       fib(1)\n",
      "       --> return 1\n",
      "       fib(0)\n",
      "       --> return 0\n",
      "   fib(3)\n",
      "   --> fib(2) + fib(1)\n",
      "     fib(2)\n",
      "     --> fib(1) + fib(0)\n",
      "       fib(1)\n",
      "       --> return 1\n",
      "       fib(0)\n",
      "       --> return 0\n",
      "     fib(1)\n",
      "     --> return 1\n",
      "Result: 5\n"
     ]
    },
    {
     "data": {
      "text/plain": [
       "5"
      ]
     },
     "execution_count": 7,
     "metadata": {},
     "output_type": "execute_result"
    }
   ],
   "source": [
    "def fib(n):\n",
    "    if n == 0:\n",
    "        return 0\n",
    "    if n == 1:\n",
    "        return 1\n",
    "    return fib(n-1) + fib(n-2)\n",
    "\n",
    "def debug_fib(n):\n",
    "    def fib_debug(n, depth=0):\n",
    "        print(\"  \" * depth, \"fib({})\".format(n))\n",
    "        if n == 0:\n",
    "            print(\"  \" * depth, \"--> return 0\")\n",
    "            return 0\n",
    "        if n == 1:\n",
    "            print(\"  \" * depth, \"--> return 1\")\n",
    "            return 1\n",
    "        print(\"  \" * depth, \"--> fib({}) + fib({})\".format(n-1, n-2))\n",
    "        return fib_debug(n-1, depth+1) + fib_debug(n-2, depth+1)\n",
    "\n",
    "    result = fib_debug(n)\n",
    "    print(\"Result:\", result)\n",
    "    return result\n",
    "\n",
    "debug_fib(5)\n"
   ]
  },
  {
   "cell_type": "markdown",
   "id": "7c0e9900",
   "metadata": {},
   "source": [
    "Problem 1\n",
    "\n",
    "Given K sorted arrays of size N each, the task is to merge them all maintaining their sorted order.\n"
   ]
  },
  {
   "cell_type": "code",
   "execution_count": 9,
   "id": "9e8fdaf8",
   "metadata": {},
   "outputs": [
    {
     "name": "stdout",
     "output_type": "stream",
     "text": [
      "[0, 1, 2, 3, 4, 5, 6, 7, 8, 9, 10, 11]\n"
     ]
    }
   ],
   "source": [
    "import heapq\n",
    "\n",
    "def merge_sorted_arrays(arrays):\n",
    "    merged = []\n",
    "    heap = []\n",
    "\n",
    "    # Initialize heap with the first element of each array\n",
    "    for i, array in enumerate(arrays):\n",
    "        if array:  # Make sure the array is not empty\n",
    "            heapq.heappush(heap, (array[0], i, 0))\n",
    "\n",
    "    while heap:\n",
    "        val, arr_index, index = heapq.heappop(heap)\n",
    "        merged.append(val)\n",
    "\n",
    "        # Move to the next element in the array\n",
    "        if index + 1 < len(arrays[arr_index]):\n",
    "            next_val = arrays[arr_index][index + 1]\n",
    "            heapq.heappush(heap, (next_val, arr_index, index + 1))\n",
    "\n",
    "    return merged\n",
    "\n",
    "# Example usage:\n",
    "array1 = [1, 3, 5, 7]\n",
    "array2 = [2, 4, 6, 8]\n",
    "array3 = [0, 9, 10, 11]\n",
    "\n",
    "arrays = [array1, array2, array3]\n",
    "merged_array = merge_sorted_arrays(arrays)\n",
    "print(merged_array)\n"
   ]
  },
  {
   "cell_type": "markdown",
   "id": "569553c0",
   "metadata": {},
   "source": [
    "2.\n",
    "Time Complexity:\n",
    "Building the initial heap: It takes O(KN) time to go through each of the K arrays once in order to build the initial heap.\n",
    "merging elements: We pop one element from the heap (which takes O(logK) time) and push a new element from the same array onto the heap (which also requires O(logK) time) for each iteration. Until all the components are combined, this process keeps going. The entire time complexity of merging is O(KN * logK) due to the KN elements.\n",
    "As a result, the algorithm's total time complexity is O(KN * logK).\n",
    "\n",
    "3. \n",
    "Ways to Improve the Implementation:\n",
    "Insertion with Binary Search: Rather than employing a list, we may utilise a binary search to determine the exact location of the subsequent element to be added to the combined array. This can lower the complexity of the insertion time from O(logK) to O(logN).\n",
    "Employ Priority Queues: We might use a priority queue data structure, which is designed for these kinds of operations, instead of the given solution, which uses a list as a heap.\n",
    "Merge operations in parallel: We could combine several arrays at once to increase performance if the arrays are big and the system allows parallelism."
   ]
  },
  {
   "cell_type": "markdown",
   "id": "d75f2375",
   "metadata": {},
   "source": [
    "Problem 2\n",
    "\n",
    "Given a sorted array array of size N, the task is to remove the duplicate elements from the array."
   ]
  },
  {
   "cell_type": "code",
   "execution_count": 10,
   "id": "df296d2a",
   "metadata": {},
   "outputs": [
    {
     "name": "stdout",
     "output_type": "stream",
     "text": [
      "Original array 1: [2, 2, 2, 2, 2]\n",
      "Array with duplicates removed: [2]\n",
      "Original array 2: [1, 2, 2, 3, 4, 4, 4, 5, 5]\n",
      "Array with duplicates removed: [1, 2, 3, 4, 5]\n"
     ]
    }
   ],
   "source": [
    "def remove_duplicates(arr):\n",
    "    if not arr:\n",
    "        return []\n",
    "\n",
    "    # Initialize variables\n",
    "    n = len(arr)\n",
    "    unique_index = 0\n",
    "\n",
    "    # Traverse through the array\n",
    "    for i in range(1, n):\n",
    "        # If the current element is different from the previous one\n",
    "        if arr[i] != arr[unique_index]:\n",
    "            unique_index += 1\n",
    "            # Move the unique element to the next position\n",
    "            arr[unique_index] = arr[i]\n",
    "\n",
    "    # Slice the array to keep only the unique elements\n",
    "    return arr[:unique_index + 1]\n",
    "\n",
    "# Example usage:\n",
    "array1 = [2, 2, 2, 2, 2]\n",
    "array2 = [1, 2, 2, 3, 4, 4, 4, 5, 5]\n",
    "\n",
    "print(\"Original array 1:\", array1)\n",
    "result1 = remove_duplicates(array1)\n",
    "print(\"Array with duplicates removed:\", result1)\n",
    "\n",
    "print(\"Original array 2:\", array2)\n",
    "result2 = remove_duplicates(array2)\n",
    "print(\"Array with duplicates removed:\", result2)\n"
   ]
  },
  {
   "cell_type": "markdown",
   "id": "eeb72551",
   "metadata": {},
   "source": [
    "2.\n",
    "Time Complexity:\n",
    "Traversing the array: The algorithm requires O(N) time to traverse the array once.\n",
    "Eliminating duplicates: Every element in the traversal is compared to its predecessor, and if there is a difference, it is moved to the next location. It takes O(1) time per element because this procedure only occurs once.\n",
    "As a result, the algorithm's total time complexity is O(N).\n",
    "\n",
    "3.\n",
    "Ways to Improve the Implementation:\n",
    "Use Two Pointers: We may use the two pointers technique, where one pointer scans the array and the second pointer keeps track of the spot where the next unique element should be inserted, to move elements rather than one at a time.\n",
    "Set up Removal: In the given implementation, the unique elements are stored in a new array that is created. To get rid of duplicates, we may alter the array while it's still in use.\n",
    "If the array wasn't sorted, we could find duplicates more quickly by using a binary search, which also lowers the time complexity."
   ]
  }
 ],
 "metadata": {
  "kernelspec": {
   "display_name": "Python 3 (ipykernel)",
   "language": "python",
   "name": "python3"
  },
  "language_info": {
   "codemirror_mode": {
    "name": "ipython",
    "version": 3
   },
   "file_extension": ".py",
   "mimetype": "text/x-python",
   "name": "python",
   "nbconvert_exporter": "python",
   "pygments_lexer": "ipython3",
   "version": "3.10.9"
  }
 },
 "nbformat": 4,
 "nbformat_minor": 5
}
